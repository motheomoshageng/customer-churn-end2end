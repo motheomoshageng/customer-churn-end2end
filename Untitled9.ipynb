{
 "cells": [
  {
   "cell_type": "code",
   "execution_count": 1,
   "id": "0bd09074-b82e-41b9-8adb-9d7ff338af43",
   "metadata": {},
   "outputs": [],
   "source": [
    "import pandas as pd\n",
    "import numpy as np\n",
    "import seaborn as sns\n",
    "import matplotlib.pyplot as plt\n"
   ]
  },
  {
   "cell_type": "code",
   "execution_count": 2,
   "id": "d1663776-05a8-4dc9-8127-d97618191baa",
   "metadata": {},
   "outputs": [],
   "source": [
    "#load the datset\n",
    "df = pd.read_csv(r\"C:\\Users\\Motheo Moshageng\\Downloads\\archive (10)\\customer_churn_data.csv\")"
   ]
  },
  {
   "cell_type": "code",
   "execution_count": 3,
   "id": "de19f6b1-2b61-4985-ada4-7c728c3d1349",
   "metadata": {},
   "outputs": [
    {
     "data": {
      "text/html": [
       "<div>\n",
       "<style scoped>\n",
       "    .dataframe tbody tr th:only-of-type {\n",
       "        vertical-align: middle;\n",
       "    }\n",
       "\n",
       "    .dataframe tbody tr th {\n",
       "        vertical-align: top;\n",
       "    }\n",
       "\n",
       "    .dataframe thead th {\n",
       "        text-align: right;\n",
       "    }\n",
       "</style>\n",
       "<table border=\"1\" class=\"dataframe\">\n",
       "  <thead>\n",
       "    <tr style=\"text-align: right;\">\n",
       "      <th></th>\n",
       "      <th>CustomerID</th>\n",
       "      <th>Age</th>\n",
       "      <th>Gender</th>\n",
       "      <th>Tenure</th>\n",
       "      <th>MonthlyCharges</th>\n",
       "      <th>ContractType</th>\n",
       "      <th>InternetService</th>\n",
       "      <th>TotalCharges</th>\n",
       "      <th>TechSupport</th>\n",
       "      <th>Churn</th>\n",
       "    </tr>\n",
       "  </thead>\n",
       "  <tbody>\n",
       "    <tr>\n",
       "      <th>0</th>\n",
       "      <td>1</td>\n",
       "      <td>49</td>\n",
       "      <td>Male</td>\n",
       "      <td>4</td>\n",
       "      <td>88.35</td>\n",
       "      <td>Month-to-Month</td>\n",
       "      <td>Fiber Optic</td>\n",
       "      <td>353.40</td>\n",
       "      <td>Yes</td>\n",
       "      <td>Yes</td>\n",
       "    </tr>\n",
       "    <tr>\n",
       "      <th>1</th>\n",
       "      <td>2</td>\n",
       "      <td>43</td>\n",
       "      <td>Male</td>\n",
       "      <td>0</td>\n",
       "      <td>36.67</td>\n",
       "      <td>Month-to-Month</td>\n",
       "      <td>Fiber Optic</td>\n",
       "      <td>0.00</td>\n",
       "      <td>Yes</td>\n",
       "      <td>Yes</td>\n",
       "    </tr>\n",
       "    <tr>\n",
       "      <th>2</th>\n",
       "      <td>3</td>\n",
       "      <td>51</td>\n",
       "      <td>Female</td>\n",
       "      <td>2</td>\n",
       "      <td>63.79</td>\n",
       "      <td>Month-to-Month</td>\n",
       "      <td>Fiber Optic</td>\n",
       "      <td>127.58</td>\n",
       "      <td>No</td>\n",
       "      <td>Yes</td>\n",
       "    </tr>\n",
       "    <tr>\n",
       "      <th>3</th>\n",
       "      <td>4</td>\n",
       "      <td>60</td>\n",
       "      <td>Female</td>\n",
       "      <td>8</td>\n",
       "      <td>102.34</td>\n",
       "      <td>One-Year</td>\n",
       "      <td>DSL</td>\n",
       "      <td>818.72</td>\n",
       "      <td>Yes</td>\n",
       "      <td>Yes</td>\n",
       "    </tr>\n",
       "    <tr>\n",
       "      <th>4</th>\n",
       "      <td>5</td>\n",
       "      <td>42</td>\n",
       "      <td>Male</td>\n",
       "      <td>32</td>\n",
       "      <td>69.01</td>\n",
       "      <td>Month-to-Month</td>\n",
       "      <td>NaN</td>\n",
       "      <td>2208.32</td>\n",
       "      <td>No</td>\n",
       "      <td>Yes</td>\n",
       "    </tr>\n",
       "  </tbody>\n",
       "</table>\n",
       "</div>"
      ],
      "text/plain": [
       "   CustomerID  Age  Gender  Tenure  MonthlyCharges    ContractType  \\\n",
       "0           1   49    Male       4           88.35  Month-to-Month   \n",
       "1           2   43    Male       0           36.67  Month-to-Month   \n",
       "2           3   51  Female       2           63.79  Month-to-Month   \n",
       "3           4   60  Female       8          102.34        One-Year   \n",
       "4           5   42    Male      32           69.01  Month-to-Month   \n",
       "\n",
       "  InternetService  TotalCharges TechSupport Churn  \n",
       "0     Fiber Optic        353.40         Yes   Yes  \n",
       "1     Fiber Optic          0.00         Yes   Yes  \n",
       "2     Fiber Optic        127.58          No   Yes  \n",
       "3             DSL        818.72         Yes   Yes  \n",
       "4             NaN       2208.32          No   Yes  "
      ]
     },
     "execution_count": 3,
     "metadata": {},
     "output_type": "execute_result"
    }
   ],
   "source": [
    "df.head()"
   ]
  },
  {
   "cell_type": "code",
   "execution_count": 4,
   "id": "1ab827f7-361d-4db6-b9d3-8b2d0f8bfefa",
   "metadata": {},
   "outputs": [
    {
     "name": "stdout",
     "output_type": "stream",
     "text": [
      "<class 'pandas.core.frame.DataFrame'>\n",
      "RangeIndex: 1000 entries, 0 to 999\n",
      "Data columns (total 10 columns):\n",
      " #   Column           Non-Null Count  Dtype  \n",
      "---  ------           --------------  -----  \n",
      " 0   CustomerID       1000 non-null   int64  \n",
      " 1   Age              1000 non-null   int64  \n",
      " 2   Gender           1000 non-null   object \n",
      " 3   Tenure           1000 non-null   int64  \n",
      " 4   MonthlyCharges   1000 non-null   float64\n",
      " 5   ContractType     1000 non-null   object \n",
      " 6   InternetService  703 non-null    object \n",
      " 7   TotalCharges     1000 non-null   float64\n",
      " 8   TechSupport      1000 non-null   object \n",
      " 9   Churn            1000 non-null   object \n",
      "dtypes: float64(2), int64(3), object(5)\n",
      "memory usage: 78.3+ KB\n"
     ]
    }
   ],
   "source": [
    "df.info()"
   ]
  },
  {
   "cell_type": "code",
   "execution_count": 5,
   "id": "fad8ca8e-969e-4bb1-9c82-d9557234c709",
   "metadata": {},
   "outputs": [
    {
     "data": {
      "text/plain": [
       "297"
      ]
     },
     "execution_count": 5,
     "metadata": {},
     "output_type": "execute_result"
    }
   ],
   "source": [
    "df['InternetService'].isnull().sum()"
   ]
  },
  {
   "cell_type": "code",
   "execution_count": 6,
   "id": "c246aac4-1d05-4fb3-9ed5-9adfe481bd97",
   "metadata": {},
   "outputs": [],
   "source": [
    "df['InternetService'] = df['InternetService'].fillna('')"
   ]
  },
  {
   "cell_type": "code",
   "execution_count": null,
   "id": "50de9578-1d5c-4601-b042-c325d4b2f54a",
   "metadata": {},
   "outputs": [],
   "source": []
  },
  {
   "cell_type": "code",
   "execution_count": 7,
   "id": "3036b032-7ffb-40bf-8203-3dc4490a4ac2",
   "metadata": {},
   "outputs": [
    {
     "data": {
      "text/plain": [
       "0"
      ]
     },
     "execution_count": 7,
     "metadata": {},
     "output_type": "execute_result"
    }
   ],
   "source": [
    "df.duplicated().sum()"
   ]
  },
  {
   "cell_type": "code",
   "execution_count": 8,
   "id": "7ecc4869-efac-4877-aa81-da96e8c78520",
   "metadata": {},
   "outputs": [
    {
     "data": {
      "text/html": [
       "<div>\n",
       "<style scoped>\n",
       "    .dataframe tbody tr th:only-of-type {\n",
       "        vertical-align: middle;\n",
       "    }\n",
       "\n",
       "    .dataframe tbody tr th {\n",
       "        vertical-align: top;\n",
       "    }\n",
       "\n",
       "    .dataframe thead th {\n",
       "        text-align: right;\n",
       "    }\n",
       "</style>\n",
       "<table border=\"1\" class=\"dataframe\">\n",
       "  <thead>\n",
       "    <tr style=\"text-align: right;\">\n",
       "      <th></th>\n",
       "      <th>CustomerID</th>\n",
       "      <th>Age</th>\n",
       "      <th>Tenure</th>\n",
       "      <th>MonthlyCharges</th>\n",
       "      <th>TotalCharges</th>\n",
       "    </tr>\n",
       "  </thead>\n",
       "  <tbody>\n",
       "    <tr>\n",
       "      <th>count</th>\n",
       "      <td>1000.000000</td>\n",
       "      <td>1000.000000</td>\n",
       "      <td>1000.00000</td>\n",
       "      <td>1000.000000</td>\n",
       "      <td>1000.000000</td>\n",
       "    </tr>\n",
       "    <tr>\n",
       "      <th>mean</th>\n",
       "      <td>500.500000</td>\n",
       "      <td>44.674000</td>\n",
       "      <td>18.97300</td>\n",
       "      <td>74.391290</td>\n",
       "      <td>1404.364060</td>\n",
       "    </tr>\n",
       "    <tr>\n",
       "      <th>std</th>\n",
       "      <td>288.819436</td>\n",
       "      <td>9.797741</td>\n",
       "      <td>18.89257</td>\n",
       "      <td>25.712083</td>\n",
       "      <td>1571.755048</td>\n",
       "    </tr>\n",
       "    <tr>\n",
       "      <th>min</th>\n",
       "      <td>1.000000</td>\n",
       "      <td>12.000000</td>\n",
       "      <td>0.00000</td>\n",
       "      <td>30.000000</td>\n",
       "      <td>0.000000</td>\n",
       "    </tr>\n",
       "    <tr>\n",
       "      <th>25%</th>\n",
       "      <td>250.750000</td>\n",
       "      <td>38.000000</td>\n",
       "      <td>5.00000</td>\n",
       "      <td>52.357500</td>\n",
       "      <td>345.217500</td>\n",
       "    </tr>\n",
       "    <tr>\n",
       "      <th>50%</th>\n",
       "      <td>500.500000</td>\n",
       "      <td>45.000000</td>\n",
       "      <td>13.00000</td>\n",
       "      <td>74.060000</td>\n",
       "      <td>872.870000</td>\n",
       "    </tr>\n",
       "    <tr>\n",
       "      <th>75%</th>\n",
       "      <td>750.250000</td>\n",
       "      <td>51.000000</td>\n",
       "      <td>26.00000</td>\n",
       "      <td>96.102500</td>\n",
       "      <td>1900.175000</td>\n",
       "    </tr>\n",
       "    <tr>\n",
       "      <th>max</th>\n",
       "      <td>1000.000000</td>\n",
       "      <td>83.000000</td>\n",
       "      <td>122.00000</td>\n",
       "      <td>119.960000</td>\n",
       "      <td>12416.250000</td>\n",
       "    </tr>\n",
       "  </tbody>\n",
       "</table>\n",
       "</div>"
      ],
      "text/plain": [
       "        CustomerID          Age      Tenure  MonthlyCharges  TotalCharges\n",
       "count  1000.000000  1000.000000  1000.00000     1000.000000   1000.000000\n",
       "mean    500.500000    44.674000    18.97300       74.391290   1404.364060\n",
       "std     288.819436     9.797741    18.89257       25.712083   1571.755048\n",
       "min       1.000000    12.000000     0.00000       30.000000      0.000000\n",
       "25%     250.750000    38.000000     5.00000       52.357500    345.217500\n",
       "50%     500.500000    45.000000    13.00000       74.060000    872.870000\n",
       "75%     750.250000    51.000000    26.00000       96.102500   1900.175000\n",
       "max    1000.000000    83.000000   122.00000      119.960000  12416.250000"
      ]
     },
     "execution_count": 8,
     "metadata": {},
     "output_type": "execute_result"
    }
   ],
   "source": [
    "df.describe()"
   ]
  },
  {
   "cell_type": "code",
   "execution_count": 9,
   "id": "6c921409-b920-46c3-9fc8-643721dd9af2",
   "metadata": {},
   "outputs": [
    {
     "data": {
      "text/plain": [
       "Index(['CustomerID', 'Age', 'Gender', 'Tenure', 'MonthlyCharges',\n",
       "       'ContractType', 'InternetService', 'TotalCharges', 'TechSupport',\n",
       "       'Churn'],\n",
       "      dtype='object')"
      ]
     },
     "execution_count": 9,
     "metadata": {},
     "output_type": "execute_result"
    }
   ],
   "source": [
    " df.columns"
   ]
  },
  {
   "cell_type": "code",
   "execution_count": 10,
   "id": "35e927f9-646e-4f75-bda6-861e4617b832",
   "metadata": {},
   "outputs": [
    {
     "data": {
      "image/png": "[encoded data removed]",
      "text/plain": [
       "<Figure size 640x480 with 1 Axes>"
      ]
     },
     "metadata": {},
     "output_type": "display_data"
    }
   ],
   "source": [
    "df['Churn'].value_counts().plot(kind = 'bar')\n",
    "plt.title('churn yes vs no')\n",
    "plt.show()"
   ]
  },
  {
   "cell_type": "code",
   "execution_count": 11,
   "id": "d5404ab8-9233-4fc5-80f4-7e9d244cbcb4",
   "metadata": {},
   "outputs": [
    {
     "data": {
      "text/plain": [
       "Churn\n",
       "No     62.54641\n",
       "Yes    75.96077\n",
       "Name: MonthlyCharges, dtype: float64"
      ]
     },
     "execution_count": 11,
     "metadata": {},
     "output_type": "execute_result"
    }
   ],
   "source": [
    "df.groupby('Churn')['MonthlyCharges'].mean()"
   ]
  },
  {
   "cell_type": "code",
   "execution_count": 12,
   "id": "c156c948-2d8d-4006-880a-8751c90fe8e0",
   "metadata": {},
   "outputs": [
    {
     "data": {
      "text/plain": [
       "Churn\n",
       "No     30.264957\n",
       "Yes    17.476784\n",
       "Name: Tenure, dtype: float64"
      ]
     },
     "execution_count": 12,
     "metadata": {},
     "output_type": "execute_result"
    }
   ],
   "source": [
    "df.groupby('Churn')['Tenure'].mean()"
   ]
  },
  {
   "cell_type": "code",
   "execution_count": 13,
   "id": "90e0aab1-3389-42c7-a5fb-b3f652fd546f",
   "metadata": {},
   "outputs": [
    {
     "data": {
      "text/plain": [
       "<Axes: xlabel='ContractType'>"
      ]
     },
     "execution_count": 13,
     "metadata": {},
     "output_type": "execute_result"
    },
    {
     "data": {
      "image/png": "[encoded data removed]",
      "text/plain": [
       "<Figure size 640x480 with 1 Axes>"
      ]
     },
     "metadata": {},
     "output_type": "display_data"
    }
   ],
   "source": [
    "df.groupby('ContractType')['MonthlyCharges'].mean().plot(kind = 'bar')"
   ]
  },
  {
   "cell_type": "code",
   "execution_count": 14,
   "id": "c43cc1d8-5ea0-4650-9992-e2696cb0e2bc",
   "metadata": {},
   "outputs": [
    {
     "data": {
      "image/png": "[encoded data removed]",
      "text/plain": [
       "<Figure size 640x480 with 1 Axes>"
      ]
     },
     "metadata": {},
     "output_type": "display_data"
    }
   ],
   "source": [
    "plt.hist(df['MonthlyCharges'])\n",
    "plt.title('monthly charges histogram')\n",
    "plt.show()"
   ]
  },
  {
   "cell_type": "code",
   "execution_count": 15,
   "id": "6dd0ee70-28a9-4195-a5e5-0ec3183325b5",
   "metadata": {},
   "outputs": [
    {
     "data": {
      "image/png": "[encoded data removed]",
      "text/plain": [
       "<Figure size 640x480 with 1 Axes>"
      ]
     },
     "metadata": {},
     "output_type": "display_data"
    }
   ],
   "source": [
    "plt.hist(df['Tenure'])\n",
    "plt.title('tenure histogram')\n",
    "plt.show()"
   ]
  },
  {
   "cell_type": "code",
   "execution_count": 16,
   "id": "89d3eec7-0948-412e-b146-02e4590067fb",
   "metadata": {},
   "outputs": [
    {
     "data": {
      "text/plain": [
       "Index(['CustomerID', 'Age', 'Gender', 'Tenure', 'MonthlyCharges',\n",
       "       'ContractType', 'InternetService', 'TotalCharges', 'TechSupport',\n",
       "       'Churn'],\n",
       "      dtype='object')"
      ]
     },
     "execution_count": 16,
     "metadata": {},
     "output_type": "execute_result"
    }
   ],
   "source": [
    "#feature engineering\n",
    "df.columns"
   ]
  },
  {
   "cell_type": "code",
   "execution_count": 17,
   "id": "47a6a2f0-0b0b-4587-a3b9-ff6e563fe787",
   "metadata": {},
   "outputs": [
    {
     "name": "stderr",
     "output_type": "stream",
     "text": [
      "C:\\Users\\Motheo Moshageng\\AppData\\Local\\Temp\\ipykernel_2264\\2109646186.py:2: FutureWarning: Downcasting behavior in `replace` is deprecated and will be removed in a future version. To retain the old behavior, explicitly call `result.infer_objects(copy=False)`. To opt-in to the future behavior, set `pd.set_option('future.no_silent_downcasting', True)`\n",
      "  df['Gender'] = df['Gender'].replace(['Male','Female'],[1,2])\n"
     ]
    }
   ],
   "source": [
    "#changing categorical data to numeric\n",
    "df['Gender'] = df['Gender'].replace(['Male','Female'],[1,2])"
   ]
  },
  {
   "cell_type": "code",
   "execution_count": 18,
   "id": "0cf24d04-49c7-4f5c-8658-09a16a57a78f",
   "metadata": {},
   "outputs": [
    {
     "data": {
      "text/plain": [
       "array(['Month-to-Month', 'One-Year', 'Two-Year'], dtype=object)"
      ]
     },
     "execution_count": 18,
     "metadata": {},
     "output_type": "execute_result"
    }
   ],
   "source": [
    "df['ContractType'].unique()"
   ]
  },
  {
   "cell_type": "code",
   "execution_count": 19,
   "id": "7e3e57cc-7007-451b-9a6e-858bed82e763",
   "metadata": {},
   "outputs": [
    {
     "name": "stderr",
     "output_type": "stream",
     "text": [
      "C:\\Users\\Motheo Moshageng\\AppData\\Local\\Temp\\ipykernel_2264\\1015243713.py:1: FutureWarning: Downcasting behavior in `replace` is deprecated and will be removed in a future version. To retain the old behavior, explicitly call `result.infer_objects(copy=False)`. To opt-in to the future behavior, set `pd.set_option('future.no_silent_downcasting', True)`\n",
      "  df['ContractType'] = df['ContractType'].replace(['Month-to-Month','One-Year','Two-Year'],[1,2,3])\n"
     ]
    }
   ],
   "source": [
    "df['ContractType'] = df['ContractType'].replace(['Month-to-Month','One-Year','Two-Year'],[1,2,3])"
   ]
  },
  {
   "cell_type": "code",
   "execution_count": 20,
   "id": "6405b7f6-ec49-4024-9c6e-f8465d868daf",
   "metadata": {},
   "outputs": [
    {
     "name": "stderr",
     "output_type": "stream",
     "text": [
      "C:\\Users\\Motheo Moshageng\\AppData\\Local\\Temp\\ipykernel_2264\\3291255431.py:1: FutureWarning: Downcasting behavior in `replace` is deprecated and will be removed in a future version. To retain the old behavior, explicitly call `result.infer_objects(copy=False)`. To opt-in to the future behavior, set `pd.set_option('future.no_silent_downcasting', True)`\n",
      "  df['Churn'] = df['Churn'].replace(['Yes','No'],[1,0])\n"
     ]
    }
   ],
   "source": [
    "df['Churn'] = df['Churn'].replace(['Yes','No'],[1,0])"
   ]
  },
  {
   "cell_type": "code",
   "execution_count": 21,
   "id": "8c1935c9-50ad-4a6d-8bb5-026f1e04c0ec",
   "metadata": {},
   "outputs": [
    {
     "data": {
      "text/plain": [
       "Churn\n",
       "1    883\n",
       "0    117\n",
       "Name: count, dtype: int64"
      ]
     },
     "execution_count": 21,
     "metadata": {},
     "output_type": "execute_result"
    }
   ],
   "source": [
    "df['Churn'].value_counts()"
   ]
  },
  {
   "cell_type": "code",
   "execution_count": 22,
   "id": "527410cd-f2e4-4624-9d95-47ff26c4ad50",
   "metadata": {},
   "outputs": [
    {
     "data": {
      "text/plain": [
       "Index(['CustomerID', 'Age', 'Gender', 'Tenure', 'MonthlyCharges',\n",
       "       'ContractType', 'InternetService', 'TotalCharges', 'TechSupport',\n",
       "       'Churn'],\n",
       "      dtype='object')"
      ]
     },
     "execution_count": 22,
     "metadata": {},
     "output_type": "execute_result"
    }
   ],
   "source": [
    "df.columns"
   ]
  },
  {
   "cell_type": "code",
   "execution_count": 23,
   "id": "50ddef9f-6ce0-4642-a61e-fb879dd40b9a",
   "metadata": {},
   "outputs": [],
   "source": [
    "from sklearn.model_selection import train_test_split"
   ]
  },
  {
   "cell_type": "code",
   "execution_count": 24,
   "id": "58bc265c-0dc1-4557-8202-f5776efa4e17",
   "metadata": {},
   "outputs": [],
   "source": [
    "dd = df.drop(['CustomerID','InternetService', 'TotalCharges', 'TechSupport'],axis = 1)"
   ]
  },
  {
   "cell_type": "code",
   "execution_count": 25,
   "id": "34393476-cb54-4bb4-afad-8b4b274a0797",
   "metadata": {},
   "outputs": [],
   "source": [
    "X = dd.drop('Churn',axis = 1)\n",
    "y = dd['Churn']"
   ]
  },
  {
   "cell_type": "code",
   "execution_count": 26,
   "id": "d561282e-2226-4859-acf6-5e118cd6e053",
   "metadata": {},
   "outputs": [],
   "source": [
    "X_train,X_test,y_train,y_test = train_test_split(X,y,test_size = 0.2,random_state = 42)#80% = training,20% = testing set"
   ]
  },
  {
   "cell_type": "code",
   "execution_count": 27,
   "id": "f0abfc2b-411e-4608-9037-ff3e0043d0e6",
   "metadata": {},
   "outputs": [
    {
     "data": {
      "text/html": [
       "<div>\n",
       "<style scoped>\n",
       "    .dataframe tbody tr th:only-of-type {\n",
       "        vertical-align: middle;\n",
       "    }\n",
       "\n",
       "    .dataframe tbody tr th {\n",
       "        vertical-align: top;\n",
       "    }\n",
       "\n",
       "    .dataframe thead th {\n",
       "        text-align: right;\n",
       "    }\n",
       "</style>\n",
       "<table border=\"1\" class=\"dataframe\">\n",
       "  <thead>\n",
       "    <tr style=\"text-align: right;\">\n",
       "      <th></th>\n",
       "      <th>Age</th>\n",
       "      <th>Gender</th>\n",
       "      <th>Tenure</th>\n",
       "      <th>MonthlyCharges</th>\n",
       "      <th>ContractType</th>\n",
       "    </tr>\n",
       "  </thead>\n",
       "  <tbody>\n",
       "    <tr>\n",
       "      <th>0</th>\n",
       "      <td>49</td>\n",
       "      <td>1</td>\n",
       "      <td>4</td>\n",
       "      <td>88.35</td>\n",
       "      <td>1</td>\n",
       "    </tr>\n",
       "    <tr>\n",
       "      <th>1</th>\n",
       "      <td>43</td>\n",
       "      <td>1</td>\n",
       "      <td>0</td>\n",
       "      <td>36.67</td>\n",
       "      <td>1</td>\n",
       "    </tr>\n",
       "    <tr>\n",
       "      <th>2</th>\n",
       "      <td>51</td>\n",
       "      <td>2</td>\n",
       "      <td>2</td>\n",
       "      <td>63.79</td>\n",
       "      <td>1</td>\n",
       "    </tr>\n",
       "    <tr>\n",
       "      <th>3</th>\n",
       "      <td>60</td>\n",
       "      <td>2</td>\n",
       "      <td>8</td>\n",
       "      <td>102.34</td>\n",
       "      <td>2</td>\n",
       "    </tr>\n",
       "    <tr>\n",
       "      <th>4</th>\n",
       "      <td>42</td>\n",
       "      <td>1</td>\n",
       "      <td>32</td>\n",
       "      <td>69.01</td>\n",
       "      <td>1</td>\n",
       "    </tr>\n",
       "    <tr>\n",
       "      <th>...</th>\n",
       "      <td>...</td>\n",
       "      <td>...</td>\n",
       "      <td>...</td>\n",
       "      <td>...</td>\n",
       "      <td>...</td>\n",
       "    </tr>\n",
       "    <tr>\n",
       "      <th>995</th>\n",
       "      <td>42</td>\n",
       "      <td>1</td>\n",
       "      <td>41</td>\n",
       "      <td>37.14</td>\n",
       "      <td>1</td>\n",
       "    </tr>\n",
       "    <tr>\n",
       "      <th>996</th>\n",
       "      <td>62</td>\n",
       "      <td>1</td>\n",
       "      <td>9</td>\n",
       "      <td>80.93</td>\n",
       "      <td>1</td>\n",
       "    </tr>\n",
       "    <tr>\n",
       "      <th>997</th>\n",
       "      <td>51</td>\n",
       "      <td>2</td>\n",
       "      <td>15</td>\n",
       "      <td>111.72</td>\n",
       "      <td>1</td>\n",
       "    </tr>\n",
       "    <tr>\n",
       "      <th>998</th>\n",
       "      <td>39</td>\n",
       "      <td>1</td>\n",
       "      <td>68</td>\n",
       "      <td>65.67</td>\n",
       "      <td>2</td>\n",
       "    </tr>\n",
       "    <tr>\n",
       "      <th>999</th>\n",
       "      <td>50</td>\n",
       "      <td>1</td>\n",
       "      <td>1</td>\n",
       "      <td>56.67</td>\n",
       "      <td>1</td>\n",
       "    </tr>\n",
       "  </tbody>\n",
       "</table>\n",
       "<p>1000 rows × 5 columns</p>\n",
       "</div>"
      ],
      "text/plain": [
       "     Age  Gender  Tenure  MonthlyCharges  ContractType\n",
       "0     49       1       4           88.35             1\n",
       "1     43       1       0           36.67             1\n",
       "2     51       2       2           63.79             1\n",
       "3     60       2       8          102.34             2\n",
       "4     42       1      32           69.01             1\n",
       "..   ...     ...     ...             ...           ...\n",
       "995   42       1      41           37.14             1\n",
       "996   62       1       9           80.93             1\n",
       "997   51       2      15          111.72             1\n",
       "998   39       1      68           65.67             2\n",
       "999   50       1       1           56.67             1\n",
       "\n",
       "[1000 rows x 5 columns]"
      ]
     },
     "execution_count": 27,
     "metadata": {},
     "output_type": "execute_result"
    }
   ],
   "source": [
    "X"
   ]
  },
  {
   "cell_type": "code",
   "execution_count": 28,
   "id": "782f0f47-8777-4c88-8f24-138212a9e0be",
   "metadata": {},
   "outputs": [],
   "source": [
    "#scaling the data as some models rely on distance based calculations or gradient descent optimization"
   ]
  },
  {
   "cell_type": "code",
   "execution_count": 29,
   "id": "8740ccd1-2ba8-4748-a4b2-f68a66c1b201",
   "metadata": {},
   "outputs": [],
   "source": [
    "# we train our model with Xtrain and Ytrain,Xtest for making predictions and compare predictions with ytest"
   ]
  },
  {
   "cell_type": "code",
   "execution_count": 30,
   "id": "b2953d3b-b2da-452c-b14b-68672e1e348c",
   "metadata": {},
   "outputs": [],
   "source": [
    "from sklearn.preprocessing import StandardScaler"
   ]
  },
  {
   "cell_type": "code",
   "execution_count": 31,
   "id": "c376bd94-65f1-45cd-8747-56590bd46ae9",
   "metadata": {},
   "outputs": [],
   "source": [
    "scaler = StandardScaler() "
   ]
  },
  {
   "cell_type": "code",
   "execution_count": 32,
   "id": "aaad2f8d-1d22-4422-a657-0f13bcedfc83",
   "metadata": {},
   "outputs": [],
   "source": [
    "X_train = scaler.fit_transform(X_train) "
   ]
  },
  {
   "cell_type": "code",
   "execution_count": 33,
   "id": "d7f754f5-d00b-443a-aad5-0632ca53baad",
   "metadata": {},
   "outputs": [],
   "source": [
    "X_test = scaler.fit_transform(X_test)"
   ]
  },
  {
   "cell_type": "code",
   "execution_count": 34,
   "id": "195b4d9b-24e9-4068-89a4-7921fc172eb2",
   "metadata": {},
   "outputs": [
    {
     "data": {
      "text/plain": [
       "array([[-0.27936177, -1.06725697,  2.28080878,  0.92037124,  1.66760554],\n",
       "       [ 0.02664838,  0.93698147,  0.11295321,  1.12221019,  0.39340837],\n",
       "       [-0.38136516, -1.06725697,  0.69457299, -1.00540975,  0.39340837],\n",
       "       ...,\n",
       "       [ 0.23065515, -1.06725697,  1.91068709,  0.16723494, -0.88078879],\n",
       "       [ 0.02664838,  0.93698147, -0.36291753,  1.6909211 , -0.88078879],\n",
       "       [-0.38136516,  0.93698147,  0.06007868, -0.87045469, -0.88078879]])"
      ]
     },
     "execution_count": 34,
     "metadata": {},
     "output_type": "execute_result"
    }
   ],
   "source": [
    "X_train"
   ]
  },
  {
   "cell_type": "code",
   "execution_count": 35,
   "id": "e6c02c4a-af2d-4eae-8db8-d2b24ef1d0f6",
   "metadata": {},
   "outputs": [
    {
     "data": {
      "text/plain": [
       "array([[ 0.57309103,  0.88640526, -1.03475948,  1.08859098,  1.69342142],\n",
       "       [ 0.98354119,  0.88640526, -0.9281382 ,  1.64456522,  0.4105264 ],\n",
       "       [-1.88960992, -1.12815215, -0.44834246,  1.59448733,  0.4105264 ],\n",
       "       [-0.5556469 ,  0.88640526,  0.3513171 ,  1.42707365, -0.87236861],\n",
       "       [-1.17132214, -1.12815215, -0.71489565, -0.70799902, -0.87236861],\n",
       "       [ 0.98354119, -1.12815215, -0.55496374, -0.72773775, -0.87236861],\n",
       "       [-0.96609706,  0.88640526,  0.72449157,  0.95626838,  0.4105264 ],\n",
       "       [-0.96609706, -1.12815215,  0.29800647, -1.44710481,  1.69342142],\n",
       "       [ 0.67570357, -1.12815215,  0.03145328, -1.57833081, -0.87236861],\n",
       "       [-0.76087198,  0.88640526,  3.33671282,  0.86890622, -0.87236861],\n",
       "       [-0.45303436,  0.88640526, -1.03475948, -1.45478098, -0.87236861],\n",
       "       [ 0.06002834,  0.88640526,  0.19138519, -0.7500352 , -0.87236861],\n",
       "       [ 0.88092865,  0.88640526, -0.98144884,  0.42807458,  1.69342142],\n",
       "       [-0.65825944,  0.88640526,  0.19138519,  1.47349622, -0.87236861],\n",
       "       [ 0.26525341,  0.88640526, -0.55496374, -1.55201251,  0.4105264 ],\n",
       "       [-0.86348452, -1.12815215, -0.28841055, -1.0066387 ,  0.4105264 ],\n",
       "       [ 0.16264088, -1.12815215,  3.07015963, -0.97885826, -0.87236861],\n",
       "       [ 1.08615373,  0.88640526,  0.19138519, -0.61478834,  1.69342142],\n",
       "       [ 0.16264088, -1.12815215, -0.98144884, -1.48877546, -0.87236861],\n",
       "       [-0.14519674,  0.88640526, -0.9281382 , -1.33452094, -0.87236861],\n",
       "       [-0.65825944, -1.12815215, -0.60827438,  0.53883079, -0.87236861],\n",
       "       [ 0.26525341,  0.88640526, -0.76820629, -1.55786102,  1.69342142],\n",
       "       [ 0.47047849,  0.88640526,  0.08476391, -1.09217319,  1.69342142],\n",
       "       [ 0.06002834,  0.88640526, -0.76820629, -0.54095087, -0.87236861],\n",
       "       [ 0.57309103,  0.88640526,  0.99104476,  1.58132818,  0.4105264 ],\n",
       "       [ 0.67570357,  0.88640526,  0.83111284,  1.00561521, -0.87236861],\n",
       "       [-0.45303436, -1.12815215, -1.03475948,  1.15877313, -0.87236861],\n",
       "       [ 1.59921643, -1.12815215,  0.99104476, -0.93389782, -0.87236861],\n",
       "       [ 0.06002834,  0.88640526, -0.9281382 , -0.16335627, -0.87236861],\n",
       "       [-0.65825944,  0.88640526,  0.19138519, -0.12643753,  1.69342142],\n",
       "       [-1.47915976,  0.88640526,  0.56455965, -0.08074603,  1.69342142],\n",
       "       [-1.27393468, -1.12815215, -0.55496374, -0.34027378, -0.87236861],\n",
       "       [ 0.47047849,  0.88640526,  0.93773412, -0.48319681, -0.87236861],\n",
       "       [-1.37654722, -1.12815215, -0.075168  ,  0.54614143, -0.87236861],\n",
       "       [ 0.06002834, -1.12815215, -0.9281382 ,  1.140131  , -0.87236861],\n",
       "       [ 0.06002834,  0.88640526, -0.28841055,  0.54723802,  0.4105264 ],\n",
       "       [-0.35042182,  0.88640526,  0.72449157, -0.87687482,  1.69342142],\n",
       "       [ 0.16264088,  0.88640526, -0.60827438,  0.03220337, -0.87236861],\n",
       "       [-0.35042182,  0.88640526,  1.15097667, -0.68460497, -0.87236861],\n",
       "       [ 0.98354119,  0.88640526, -0.9281382 , -1.36741882,  0.4105264 ],\n",
       "       [ 0.67570357, -1.12815215, -0.55496374, -0.79938203,  1.69342142],\n",
       "       [ 0.26525341, -1.12815215, -0.44834246,  1.3009651 ,  0.4105264 ],\n",
       "       [ 0.88092865, -1.12815215,  0.24469583,  1.42926684,  1.69342142],\n",
       "       [-0.45303436, -1.12815215, -0.76820629,  0.51360907, -0.87236861],\n",
       "       [ 0.67570357,  0.88640526,  0.51124902,  0.50044992,  0.4105264 ],\n",
       "       [-0.65825944,  0.88640526, -0.39503183,  1.63433032,  0.4105264 ],\n",
       "       [ 1.18876627,  0.88640526, -0.28841055, -0.60820877, -0.87236861],\n",
       "       [-0.96609706, -1.12815215, -0.71489565,  1.11929567, -0.87236861],\n",
       "       [-0.0425842 ,  0.88640526,  0.56455965, -0.0712422 , -0.87236861],\n",
       "       [-0.96609706,  0.88640526, -0.23509991,  0.46389672, -0.87236861],\n",
       "       [ 0.06002834, -1.12815215, -0.28841055, -0.26131886, -0.87236861],\n",
       "       [ 1.18876627,  0.88640526, -0.82151693,  1.65443458,  1.69342142],\n",
       "       [-0.0425842 , -1.12815215, -0.66158501, -0.01568132,  0.4105264 ],\n",
       "       [-1.47915976,  0.88640526,  0.56455965, -1.48292695, -0.87236861],\n",
       "       [-1.47915976, -1.12815215, -0.5016531 ,  0.92154284,  0.4105264 ],\n",
       "       [-0.65825944, -1.12815215,  0.77780221,  1.02096755, -0.87236861],\n",
       "       [ 0.77831611, -1.12815215,  2.59036389,  1.59777712, -0.87236861],\n",
       "       [-0.45303436,  0.88640526, -0.98144884, -0.39510359, -0.87236861],\n",
       "       [-1.88960992,  0.88640526, -0.39503183, -0.35233634,  1.69342142],\n",
       "       [-0.5556469 , -1.12815215,  0.3513171 ,  1.39673449, -0.87236861],\n",
       "       [ 0.88092865, -1.12815215, -0.18178927,  0.24713621,  0.4105264 ],\n",
       "       [ 1.08615373,  0.88640526,  0.03145328, -0.91379356,  0.4105264 ],\n",
       "       [ 0.57309103,  0.88640526,  0.45793838,  1.45119877, -0.87236861],\n",
       "       [ 3.95930484, -1.12815215, -0.9281382 ,  0.42770904, -0.87236861],\n",
       "       [ 0.47047849,  0.88640526, -0.9281382 , -0.20173714, -0.87236861],\n",
       "       [-1.0687096 , -1.12815215,  0.29800647, -0.51061171,  0.4105264 ],\n",
       "       [-0.0425842 ,  0.88640526, -0.71489565, -1.45404992, -0.87236861],\n",
       "       [ 0.26525341, -1.12815215, -0.66158501,  0.18499577, -0.87236861],\n",
       "       [ 0.36786595,  0.88640526, -0.9281382 , -0.55301343, -0.87236861],\n",
       "       [ 1.49660389, -1.12815215, -0.55496374,  0.6291172 , -0.87236861],\n",
       "       [ 0.16264088,  0.88640526, -0.66158501, -0.54606832, -0.87236861],\n",
       "       [-0.86348452,  0.88640526,  4.56285749,  1.60508776, -0.87236861],\n",
       "       [ 0.06002834, -1.12815215, -0.28841055,  1.39417577, -0.87236861],\n",
       "       [-1.27393468, -1.12815215,  3.12347027,  0.99062839,  1.69342142],\n",
       "       [-0.5556469 , -1.12815215, -0.76820629, -1.20621919,  0.4105264 ],\n",
       "       [-0.65825944, -1.12815215, -0.02185736, -0.54095087,  1.69342142],\n",
       "       [-0.24780928, -1.12815215, -0.55496374, -1.08449702,  1.69342142],\n",
       "       [ 0.16264088,  0.88640526, -0.55496374,  0.84660877, -0.87236861],\n",
       "       [-0.86348452, -1.12815215,  1.95063624,  1.45302643,  1.69342142],\n",
       "       [-0.5556469 , -1.12815215, -0.66158501, -0.70397816, -0.87236861],\n",
       "       [ 1.29137881,  0.88640526, -1.03475948,  1.35396724, -0.87236861],\n",
       "       [-0.0425842 ,  0.88640526, -0.71489565,  0.65689764,  0.4105264 ],\n",
       "       [ 0.47047849, -1.12815215,  1.4708405 ,  0.14917363,  0.4105264 ],\n",
       "       [ 1.08615373,  0.88640526, -0.34172119, -0.75186286,  0.4105264 ],\n",
       "       [ 0.36786595, -1.12815215, -0.66158501, -0.41191806, -0.87236861],\n",
       "       [ 0.36786595,  0.88640526, -0.12847864, -1.09034553, -0.87236861],\n",
       "       [-0.5556469 , -1.12815215,  2.59036389, -0.31687973,  0.4105264 ],\n",
       "       [-0.0425842 , -1.12815215, -0.23509991, -1.50668653, -0.87236861],\n",
       "       [ 1.08615373, -1.12815215, -0.71489565, -0.9576574 ,  0.4105264 ],\n",
       "       [ 0.77831611,  0.88640526,  1.52415113,  1.25490806,  0.4105264 ],\n",
       "       [-2.19744753, -1.12815215, -0.9281382 ,  1.0158501 ,  0.4105264 ],\n",
       "       [ 0.98354119, -1.12815215, -0.87482757, -0.26789843, -0.87236861],\n",
       "       [-0.65825944,  0.88640526, -1.03475948,  1.07908715,  1.69342142],\n",
       "       [-0.45303436, -1.12815215, -0.02185736,  1.18399484,  0.4105264 ],\n",
       "       [ 0.47047849,  0.88640526, -0.12847864,  0.83710493, -0.87236861],\n",
       "       [ 1.70182897,  0.88640526, -0.98144884, -0.15129371,  0.4105264 ],\n",
       "       [ 1.18876627, -1.12815215, -0.66158501, -0.65316921,  1.69342142],\n",
       "       [-0.5556469 ,  0.88640526, -0.66158501, -1.50997632,  1.69342142],\n",
       "       [-1.17132214,  0.88640526, -0.87482757,  0.54906568, -0.87236861],\n",
       "       [ 1.59921643,  0.88640526, -0.98144884,  0.67480871, -0.87236861],\n",
       "       [ 0.16264088,  0.88640526, -0.66158501,  0.67261551,  0.4105264 ],\n",
       "       [ 1.49660389,  0.88640526, -0.34172119, -0.20612352, -0.87236861],\n",
       "       [-1.0687096 ,  0.88640526, -0.76820629, -0.44079509,  0.4105264 ],\n",
       "       [ 1.29137881,  0.88640526,  0.72449157,  0.28953793, -0.87236861],\n",
       "       [-1.68438484,  0.88640526,  0.08476391, -1.02454977, -0.87236861],\n",
       "       [-0.24780928, -1.12815215, -0.71489565,  0.87073388, -0.87236861],\n",
       "       [ 0.36786595, -1.12815215,  0.08476391, -0.24669758,  1.69342142],\n",
       "       [ 0.47047849,  0.88640526, -0.87482757,  0.54431377, -0.87236861],\n",
       "       [-0.24780928,  0.88640526, -0.02185736, -1.03076381,  0.4105264 ],\n",
       "       [ 0.16264088,  0.88640526,  0.19138519, -0.85165311,  0.4105264 ],\n",
       "       [ 0.26525341,  0.88640526, -0.66158501, -0.93280122,  0.4105264 ],\n",
       "       [-0.35042182,  0.88640526, -0.82151693,  0.73036958, -0.87236861],\n",
       "       [-1.17132214, -1.12815215, -0.82151693,  0.79506875, -0.87236861],\n",
       "       [ 0.26525341, -1.12815215,  0.29800647, -1.392275  ,  0.4105264 ],\n",
       "       [ 0.98354119,  0.88640526,  1.57746177, -1.51838356,  0.4105264 ],\n",
       "       [-0.24780928,  0.88640526, -0.76820629, -1.08522809,  0.4105264 ],\n",
       "       [-0.24780928,  0.88640526, -0.71489565, -1.11520171, -0.87236861],\n",
       "       [-1.5817723 ,  0.88640526,  0.88442348,  0.35898902, -0.87236861],\n",
       "       [-0.65825944,  0.88640526, -0.34172119, -0.36732315,  0.4105264 ],\n",
       "       [ 0.36786595,  0.88640526,  0.77780221,  1.50931836,  0.4105264 ],\n",
       "       [ 1.08615373,  0.88640526,  0.83111284,  0.66055296,  1.69342142],\n",
       "       [ 1.39399135, -1.12815215,  0.56455965,  1.12477865, -0.87236861],\n",
       "       [ 0.36786595,  0.88640526, -0.98144884, -1.43431119, -0.87236861],\n",
       "       [-0.96609706,  0.88640526, -0.28841055, -0.72042711,  0.4105264 ],\n",
       "       [ 0.16264088, -1.12815215, -1.03475948, -0.6359892 , -0.87236861],\n",
       "       [-0.45303436, -1.12815215, -0.28841055, -1.36814989, -0.87236861],\n",
       "       [ 2.31750421,  0.88640526, -0.82151693, -0.85969481,  1.69342142],\n",
       "       [ 0.67570357,  0.88640526, -0.76820629,  1.06848672, -0.87236861],\n",
       "       [ 0.36786595,  0.88640526, -0.34172119, -0.37061294, -0.87236861],\n",
       "       [ 0.98354119,  0.88640526,  2.96353835, -1.57577209,  1.69342142],\n",
       "       [ 0.36786595,  0.88640526,  1.15097667,  1.09151524, -0.87236861],\n",
       "       [-0.5556469 ,  0.88640526, -0.55496374,  0.51689886,  1.69342142],\n",
       "       [-1.27393468, -1.12815215,  0.24469583,  1.08457013, -0.87236861],\n",
       "       [-0.24780928, -1.12815215,  1.15097667, -1.35974265, -0.87236861],\n",
       "       [-0.96609706,  0.88640526,  0.93773412, -1.34219711, -0.87236861],\n",
       "       [ 0.98354119,  0.88640526,  1.52415113, -0.22293799,  0.4105264 ],\n",
       "       [ 0.77831611, -1.12815215, -0.55496374, -0.59175983, -0.87236861],\n",
       "       [ 0.77831611,  0.88640526,  1.20428731, -1.40031671, -0.87236861],\n",
       "       [ 0.16264088, -1.12815215,  0.29800647, -1.40214437,  1.69342142],\n",
       "       [-0.0425842 , -1.12815215, -0.60827438, -0.99274848, -0.87236861],\n",
       "       [-1.47915976, -1.12815215,  0.40462774,  1.30425489, -0.87236861],\n",
       "       [-0.65825944, -1.12815215, -0.02185736, -0.49343171, -0.87236861],\n",
       "       [-1.78699738,  0.88640526, -0.5016531 ,  1.32582128, -0.87236861],\n",
       "       [ 0.67570357,  0.88640526, -0.075168  , -0.01056388, -0.87236861],\n",
       "       [ 1.18876627,  0.88640526,  0.61787029,  0.68431254, -0.87236861],\n",
       "       [-0.0425842 ,  0.88640526, -0.87482757, -1.27384262,  1.69342142],\n",
       "       [-0.14519674,  0.88640526,  0.29800647,  1.55500987, -0.87236861],\n",
       "       [-1.27393468,  0.88640526,  0.08476391, -0.92804931, -0.87236861],\n",
       "       [ 2.31750421, -1.12815215, -0.76820629, -1.14919619,  0.4105264 ],\n",
       "       [ 0.57309103,  0.88640526, -0.71489565,  1.1595042 ,  1.69342142],\n",
       "       [-1.5817723 , -1.12815215, -1.03475948, -0.24523545,  1.69342142],\n",
       "       [-1.17132214, -1.12815215, -0.12847864,  1.47715154,  1.69342142],\n",
       "       [-2.50528515,  0.88640526, -0.23509991, -0.05004134,  0.4105264 ],\n",
       "       [-1.78699738, -1.12815215, -0.66158501,  1.43438429, -0.87236861],\n",
       "       [ 0.88092865, -1.12815215,  2.37712134,  0.90107304,  0.4105264 ],\n",
       "       [-0.65825944, -1.12815215,  0.24469583, -0.20612352, -0.87236861],\n",
       "       [-0.24780928,  0.88640526, -0.28841055, -1.01906679,  1.69342142],\n",
       "       [-1.27393468, -1.12815215, -0.5016531 , -1.45185673,  0.4105264 ],\n",
       "       [-0.45303436,  0.88640526,  1.41752986,  0.66932573, -0.87236861],\n",
       "       [ 0.67570357, -1.12815215, -0.9281382 , -0.2960444 , -0.87236861],\n",
       "       [-0.5556469 , -1.12815215,  0.19138519,  0.1272417 , -0.87236861],\n",
       "       [ 1.80444151, -1.12815215, -0.02185736, -0.78841607, -0.87236861],\n",
       "       [ 0.67570357,  0.88640526, -0.9281382 , -1.56626825,  1.69342142],\n",
       "       [ 1.90705405, -1.12815215, -0.28841055,  0.55601079,  0.4105264 ],\n",
       "       [-0.35042182,  0.88640526, -1.03475948, -1.34073498, -0.87236861],\n",
       "       [-2.71051023,  0.88640526,  0.99104476, -1.58344826, -0.87236861],\n",
       "       [ 0.88092865,  0.88640526, -0.87482757, -0.00983281, -0.87236861],\n",
       "       [ 0.47047849, -1.12815215,  2.59036389,  1.44023281, -0.87236861],\n",
       "       [ 1.39399135,  0.88640526,  0.88442348,  0.25846771, -0.87236861],\n",
       "       [-0.24780928, -1.12815215, -1.03475948,  1.09553609,  1.69342142],\n",
       "       [ 1.59921643, -1.12815215,  0.93773412,  0.05888721,  0.4105264 ],\n",
       "       [ 1.18876627, -1.12815215, -0.44834246,  1.44388813,  1.69342142],\n",
       "       [-1.99222246,  0.88640526, -0.55496374,  1.20190591,  1.69342142],\n",
       "       [ 0.06002834, -1.12815215, -0.98144884,  0.33742263,  0.4105264 ],\n",
       "       [-0.65825944, -1.12815215,  3.17678091, -1.58527592,  0.4105264 ],\n",
       "       [ 0.47047849, -1.12815215,  0.08476391,  1.37480257,  0.4105264 ],\n",
       "       [-1.5817723 ,  0.88640526, -0.60827438,  1.02352628,  1.69342142],\n",
       "       [ 0.77831611, -1.12815215,  2.27050006,  0.43209543,  0.4105264 ],\n",
       "       [ 0.06002834,  0.88640526, -1.03475948, -0.77013946, -0.87236861],\n",
       "       [ 1.80444151,  0.88640526,  0.3513171 ,  0.71318957,  0.4105264 ],\n",
       "       [ 1.59921643, -1.12815215,  0.24469583, -0.91452462, -0.87236861],\n",
       "       [ 1.29137881, -1.12815215,  0.29800647, -0.61259515,  1.69342142],\n",
       "       [ 0.16264088,  0.88640526, -0.82151693, -1.25373836, -0.87236861],\n",
       "       [-1.68438484,  0.88640526,  0.03145328,  1.02974032, -0.87236861],\n",
       "       [ 0.47047849,  0.88640526,  1.63077241, -1.17807322, -0.87236861],\n",
       "       [-0.35042182,  0.88640526, -0.71489565, -0.16554946,  1.69342142],\n",
       "       [-1.0687096 , -1.12815215, -0.55496374, -0.31176228,  0.4105264 ],\n",
       "       [-0.45303436,  0.88640526,  1.20428731,  0.02818252,  0.4105264 ],\n",
       "       [ 0.67570357, -1.12815215, -0.02185736,  0.68906446, -0.87236861],\n",
       "       [-1.47915976,  0.88640526,  0.24469583, -0.21453076,  0.4105264 ],\n",
       "       [-0.0425842 ,  0.88640526,  0.24469583, -0.26424311,  0.4105264 ],\n",
       "       [-0.24780928,  0.88640526, -0.075168  ,  0.60426102,  0.4105264 ],\n",
       "       [ 0.06002834,  0.88640526,  0.29800647,  1.58571456, -0.87236861],\n",
       "       [-1.17132214,  0.88640526, -0.34172119, -0.92585611,  0.4105264 ],\n",
       "       [ 0.67570357,  0.88640526,  1.31090858, -1.41530352,  1.69342142],\n",
       "       [ 0.16264088, -1.12815215,  0.51124902,  1.49506261, -0.87236861],\n",
       "       [ 0.06002834, -1.12815215, -0.34172119,  0.98660754,  0.4105264 ],\n",
       "       [ 0.57309103, -1.12815215, -0.82151693,  1.33130426, -0.87236861],\n",
       "       [-1.17132214, -1.12815215, -0.66158501, -0.55082024,  0.4105264 ],\n",
       "       [ 0.06002834, -1.12815215,  0.13807455,  1.06007948,  0.4105264 ]])"
      ]
     },
     "execution_count": 35,
     "metadata": {},
     "output_type": "execute_result"
    }
   ],
   "source": [
    "X_test"
   ]
  },
  {
   "cell_type": "code",
   "execution_count": 36,
   "id": "3d085d36-1929-4b27-8a2f-f9bf2d0b298a",
   "metadata": {},
   "outputs": [
    {
     "data": {
      "text/plain": [
       "array([[-0.27936177, -1.06725697,  2.28080878,  0.92037124,  1.66760554],\n",
       "       [ 0.02664838,  0.93698147,  0.11295321,  1.12221019,  0.39340837],\n",
       "       [-0.38136516, -1.06725697,  0.69457299, -1.00540975,  0.39340837],\n",
       "       ...,\n",
       "       [ 0.23065515, -1.06725697,  1.91068709,  0.16723494, -0.88078879],\n",
       "       [ 0.02664838,  0.93698147, -0.36291753,  1.6909211 , -0.88078879],\n",
       "       [-0.38136516,  0.93698147,  0.06007868, -0.87045469, -0.88078879]])"
      ]
     },
     "execution_count": 36,
     "metadata": {},
     "output_type": "execute_result"
    }
   ],
   "source": [
    "X_train"
   ]
  },
  {
   "cell_type": "code",
   "execution_count": 37,
   "id": "6419b62e-5673-4a30-8002-0e8e68a2b434",
   "metadata": {},
   "outputs": [],
   "source": [
    "#building a model"
   ]
  },
  {
   "cell_type": "code",
   "execution_count": 46,
   "id": "7cd0b11c-10eb-4277-a079-3b7b97d391fb",
   "metadata": {},
   "outputs": [],
   "source": [
    "\n",
    "dd['Age'] = dd['Age'].astype(int)"
   ]
  },
  {
   "cell_type": "code",
   "execution_count": 47,
   "id": "4c093ecf-98ec-4bd5-950d-69e9dfa39818",
   "metadata": {},
   "outputs": [],
   "source": [
    " #gridsearch is essential in model tuning in models like logistic reg & random forest"
   ]
  },
  {
   "cell_type": "code",
   "execution_count": 48,
   "id": "2872aad6-e939-468d-bcea-bc65f98653f4",
   "metadata": {},
   "outputs": [],
   "source": [
    "from sklearn.linear_model import LogisticRegression"
   ]
  },
  {
   "cell_type": "code",
   "execution_count": 49,
   "id": "d3804e0d-afa9-4fa0-99f7-33b65ee7924b",
   "metadata": {},
   "outputs": [],
   "source": [
    "logmodel = LogisticRegression()"
   ]
  },
  {
   "cell_type": "code",
   "execution_count": 50,
   "id": "8979e137-5f3f-4632-afaa-5c907d9566e7",
   "metadata": {},
   "outputs": [
    {
     "data": {
      "text/html": [
       "<style>#sk-container-id-2 {\n",
       "  /* Definition of color scheme common for light and dark mode */\n",
       "  --sklearn-color-text: black;\n",
       "  --sklearn-color-line: gray;\n",
       "  /* Definition of color scheme for unfitted estimators */\n",
       "  --sklearn-color-unfitted-level-0: #fff5e6;\n",
       "  --sklearn-color-unfitted-level-1: #f6e4d2;\n",
       "  --sklearn-color-unfitted-level-2: #ffe0b3;\n",
       "  --sklearn-color-unfitted-level-3: chocolate;\n",
       "  /* Definition of color scheme for fitted estimators */\n",
       "  --sklearn-color-fitted-level-0: #f0f8ff;\n",
       "  --sklearn-color-fitted-level-1: #d4ebff;\n",
       "  --sklearn-color-fitted-level-2: #b3dbfd;\n",
       "  --sklearn-color-fitted-level-3: cornflowerblue;\n",
       "\n",
       "  /* Specific color for light theme */\n",
       "  --sklearn-color-text-on-default-background: var(--sg-text-color, var(--theme-code-foreground, var(--jp-content-font-color1, black)));\n",
       "  --sklearn-color-background: var(--sg-background-color, var(--theme-background, var(--jp-layout-color0, white)));\n",
       "  --sklearn-color-border-box: var(--sg-text-color, var(--theme-code-foreground, var(--jp-content-font-color1, black)));\n",
       "  --sklearn-color-icon: #696969;\n",
       "\n",
       "  @media (prefers-color-scheme: dark) {\n",
       "    /* Redefinition of color scheme for dark theme */\n",
       "    --sklearn-color-text-on-default-background: var(--sg-text-color, var(--theme-code-foreground, var(--jp-content-font-color1, white)));\n",
       "    --sklearn-color-background: var(--sg-background-color, var(--theme-background, var(--jp-layout-color0, #111)));\n",
       "    --sklearn-color-border-box: var(--sg-text-color, var(--theme-code-foreground, var(--jp-content-font-color1, white)));\n",
       "    --sklearn-color-icon: #878787;\n",
       "  }\n",
       "}\n",
       "\n",
       "#sk-container-id-2 {\n",
       "  color: var(--sklearn-color-text);\n",
       "}\n",
       "\n",
       "#sk-container-id-2 pre {\n",
       "  padding: 0;\n",
       "}\n",
       "\n",
       "#sk-container-id-2 input.sk-hidden--visually {\n",
       "  border: 0;\n",
       "  clip: rect(1px 1px 1px 1px);\n",
       "  clip: rect(1px, 1px, 1px, 1px);\n",
       "  height: 1px;\n",
       "  margin: -1px;\n",
       "  overflow: hidden;\n",
       "  padding: 0;\n",
       "  position: absolute;\n",
       "  width: 1px;\n",
       "}\n",
       "\n",
       "#sk-container-id-2 div.sk-dashed-wrapped {\n",
       "  border: 1px dashed var(--sklearn-color-line);\n",
       "  margin: 0 0.4em 0.5em 0.4em;\n",
       "  box-sizing: border-box;\n",
       "  padding-bottom: 0.4em;\n",
       "  background-color: var(--sklearn-color-background);\n",
       "}\n",
       "\n",
       "#sk-container-id-2 div.sk-container {\n",
       "  /* jupyter's `normalize.less` sets `[hidden] { display: none; }`\n",
       "     but bootstrap.min.css set `[hidden] { display: none !important; }`\n",
       "     so we also need the `!important` here to be able to override the\n",
       "     default hidden behavior on the sphinx rendered scikit-learn.org.\n",
       "     See: https://github.com/scikit-learn/scikit-learn/issues/21755 */\n",
       "  display: inline-block !important;\n",
       "  position: relative;\n",
       "}\n",
       "\n",
       "#sk-container-id-2 div.sk-text-repr-fallback {\n",
       "  display: none;\n",
       "}\n",
       "\n",
       "div.sk-parallel-item,\n",
       "div.sk-serial,\n",
       "div.sk-item {\n",
       "  /* draw centered vertical line to link estimators */\n",
       "  background-image: linear-gradient(var(--sklearn-color-text-on-default-background), var(--sklearn-color-text-on-default-background));\n",
       "  background-size: 2px 100%;\n",
       "  background-repeat: no-repeat;\n",
       "  background-position: center center;\n",
       "}\n",
       "\n",
       "/* Parallel-specific style estimator block */\n",
       "\n",
       "#sk-container-id-2 div.sk-parallel-item::after {\n",
       "  content: \"\";\n",
       "  width: 100%;\n",
       "  border-bottom: 2px solid var(--sklearn-color-text-on-default-background);\n",
       "  flex-grow: 1;\n",
       "}\n",
       "\n",
       "#sk-container-id-2 div.sk-parallel {\n",
       "  display: flex;\n",
       "  align-items: stretch;\n",
       "  justify-content: center;\n",
       "  background-color: var(--sklearn-color-background);\n",
       "  position: relative;\n",
       "}\n",
       "\n",
       "#sk-container-id-2 div.sk-parallel-item {\n",
       "  display: flex;\n",
       "  flex-direction: column;\n",
       "}\n",
       "\n",
       "#sk-container-id-2 div.sk-parallel-item:first-child::after {\n",
       "  align-self: flex-end;\n",
       "  width: 50%;\n",
       "}\n",
       "\n",
       "#sk-container-id-2 div.sk-parallel-item:last-child::after {\n",
       "  align-self: flex-start;\n",
       "  width: 50%;\n",
       "}\n",
       "\n",
       "#sk-container-id-2 div.sk-parallel-item:only-child::after {\n",
       "  width: 0;\n",
       "}\n",
       "\n",
       "/* Serial-specific style estimator block */\n",
       "\n",
       "#sk-container-id-2 div.sk-serial {\n",
       "  display: flex;\n",
       "  flex-direction: column;\n",
       "  align-items: center;\n",
       "  background-color: var(--sklearn-color-background);\n",
       "  padding-right: 1em;\n",
       "  padding-left: 1em;\n",
       "}\n",
       "\n",
       "\n",
       "/* Toggleable style: style used for estimator/Pipeline/ColumnTransformer box that is\n",
       "clickable and can be expanded/collapsed.\n",
       "- Pipeline and ColumnTransformer use this feature and define the default style\n",
       "- Estimators will overwrite some part of the style using the `sk-estimator` class\n",
       "*/\n",
       "\n",
       "/* Pipeline and ColumnTransformer style (default) */\n",
       "\n",
       "#sk-container-id-2 div.sk-toggleable {\n",
       "  /* Default theme specific background. It is overwritten whether we have a\n",
       "  specific estimator or a Pipeline/ColumnTransformer */\n",
       "  background-color: var(--sklearn-color-background);\n",
       "}\n",
       "\n",
       "/* Toggleable label */\n",
       "#sk-container-id-2 label.sk-toggleable__label {\n",
       "  cursor: pointer;\n",
       "  display: block;\n",
       "  width: 100%;\n",
       "  margin-bottom: 0;\n",
       "  padding: 0.5em;\n",
       "  box-sizing: border-box;\n",
       "  text-align: center;\n",
       "}\n",
       "\n",
       "#sk-container-id-2 label.sk-toggleable__label-arrow:before {\n",
       "  /* Arrow on the left of the label */\n",
       "  content: \"▸\";\n",
       "  float: left;\n",
       "  margin-right: 0.25em;\n",
       "  color: var(--sklearn-color-icon);\n",
       "}\n",
       "\n",
       "#sk-container-id-2 label.sk-toggleable__label-arrow:hover:before {\n",
       "  color: var(--sklearn-color-text);\n",
       "}\n",
       "\n",
       "/* Toggleable content - dropdown */\n",
       "\n",
       "#sk-container-id-2 div.sk-toggleable__content {\n",
       "  max-height: 0;\n",
       "  max-width: 0;\n",
       "  overflow: hidden;\n",
       "  text-align: left;\n",
       "  /* unfitted */\n",
       "  background-color: var(--sklearn-color-unfitted-level-0);\n",
       "}\n",
       "\n",
       "#sk-container-id-2 div.sk-toggleable__content.fitted {\n",
       "  /* fitted */\n",
       "  background-color: var(--sklearn-color-fitted-level-0);\n",
       "}\n",
       "\n",
       "#sk-container-id-2 div.sk-toggleable__content pre {\n",
       "  margin: 0.2em;\n",
       "  border-radius: 0.25em;\n",
       "  color: var(--sklearn-color-text);\n",
       "  /* unfitted */\n",
       "  background-color: var(--sklearn-color-unfitted-level-0);\n",
       "}\n",
       "\n",
       "#sk-container-id-2 div.sk-toggleable__content.fitted pre {\n",
       "  /* unfitted */\n",
       "  background-color: var(--sklearn-color-fitted-level-0);\n",
       "}\n",
       "\n",
       "#sk-container-id-2 input.sk-toggleable__control:checked~div.sk-toggleable__content {\n",
       "  /* Expand drop-down */\n",
       "  max-height: 200px;\n",
       "  max-width: 100%;\n",
       "  overflow: auto;\n",
       "}\n",
       "\n",
       "#sk-container-id-2 input.sk-toggleable__control:checked~label.sk-toggleable__label-arrow:before {\n",
       "  content: \"▾\";\n",
       "}\n",
       "\n",
       "/* Pipeline/ColumnTransformer-specific style */\n",
       "\n",
       "#sk-container-id-2 div.sk-label input.sk-toggleable__control:checked~label.sk-toggleable__label {\n",
       "  color: var(--sklearn-color-text);\n",
       "  background-color: var(--sklearn-color-unfitted-level-2);\n",
       "}\n",
       "\n",
       "#sk-container-id-2 div.sk-label.fitted input.sk-toggleable__control:checked~label.sk-toggleable__label {\n",
       "  background-color: var(--sklearn-color-fitted-level-2);\n",
       "}\n",
       "\n",
       "/* Estimator-specific style */\n",
       "\n",
       "/* Colorize estimator box */\n",
       "#sk-container-id-2 div.sk-estimator input.sk-toggleable__control:checked~label.sk-toggleable__label {\n",
       "  /* unfitted */\n",
       "  background-color: var(--sklearn-color-unfitted-level-2);\n",
       "}\n",
       "\n",
       "#sk-container-id-2 div.sk-estimator.fitted input.sk-toggleable__control:checked~label.sk-toggleable__label {\n",
       "  /* fitted */\n",
       "  background-color: var(--sklearn-color-fitted-level-2);\n",
       "}\n",
       "\n",
       "#sk-container-id-2 div.sk-label label.sk-toggleable__label,\n",
       "#sk-container-id-2 div.sk-label label {\n",
       "  /* The background is the default theme color */\n",
       "  color: var(--sklearn-color-text-on-default-background);\n",
       "}\n",
       "\n",
       "/* On hover, darken the color of the background */\n",
       "#sk-container-id-2 div.sk-label:hover label.sk-toggleable__label {\n",
       "  color: var(--sklearn-color-text);\n",
       "  background-color: var(--sklearn-color-unfitted-level-2);\n",
       "}\n",
       "\n",
       "/* Label box, darken color on hover, fitted */\n",
       "#sk-container-id-2 div.sk-label.fitted:hover label.sk-toggleable__label.fitted {\n",
       "  color: var(--sklearn-color-text);\n",
       "  background-color: var(--sklearn-color-fitted-level-2);\n",
       "}\n",
       "\n",
       "/* Estimator label */\n",
       "\n",
       "#sk-container-id-2 div.sk-label label {\n",
       "  font-family: monospace;\n",
       "  font-weight: bold;\n",
       "  display: inline-block;\n",
       "  line-height: 1.2em;\n",
       "}\n",
       "\n",
       "#sk-container-id-2 div.sk-label-container {\n",
       "  text-align: center;\n",
       "}\n",
       "\n",
       "/* Estimator-specific */\n",
       "#sk-container-id-2 div.sk-estimator {\n",
       "  font-family: monospace;\n",
       "  border: 1px dotted var(--sklearn-color-border-box);\n",
       "  border-radius: 0.25em;\n",
       "  box-sizing: border-box;\n",
       "  margin-bottom: 0.5em;\n",
       "  /* unfitted */\n",
       "  background-color: var(--sklearn-color-unfitted-level-0);\n",
       "}\n",
       "\n",
       "#sk-container-id-2 div.sk-estimator.fitted {\n",
       "  /* fitted */\n",
       "  background-color: var(--sklearn-color-fitted-level-0);\n",
       "}\n",
       "\n",
       "/* on hover */\n",
       "#sk-container-id-2 div.sk-estimator:hover {\n",
       "  /* unfitted */\n",
       "  background-color: var(--sklearn-color-unfitted-level-2);\n",
       "}\n",
       "\n",
       "#sk-container-id-2 div.sk-estimator.fitted:hover {\n",
       "  /* fitted */\n",
       "  background-color: var(--sklearn-color-fitted-level-2);\n",
       "}\n",
       "\n",
       "/* Specification for estimator info (e.g. \"i\" and \"?\") */\n",
       "\n",
       "/* Common style for \"i\" and \"?\" */\n",
       "\n",
       ".sk-estimator-doc-link,\n",
       "a:link.sk-estimator-doc-link,\n",
       "a:visited.sk-estimator-doc-link {\n",
       "  float: right;\n",
       "  font-size: smaller;\n",
       "  line-height: 1em;\n",
       "  font-family: monospace;\n",
       "  background-color: var(--sklearn-color-background);\n",
       "  border-radius: 1em;\n",
       "  height: 1em;\n",
       "  width: 1em;\n",
       "  text-decoration: none !important;\n",
       "  margin-left: 1ex;\n",
       "  /* unfitted */\n",
       "  border: var(--sklearn-color-unfitted-level-1) 1pt solid;\n",
       "  color: var(--sklearn-color-unfitted-level-1);\n",
       "}\n",
       "\n",
       ".sk-estimator-doc-link.fitted,\n",
       "a:link.sk-estimator-doc-link.fitted,\n",
       "a:visited.sk-estimator-doc-link.fitted {\n",
       "  /* fitted */\n",
       "  border: var(--sklearn-color-fitted-level-1) 1pt solid;\n",
       "  color: var(--sklearn-color-fitted-level-1);\n",
       "}\n",
       "\n",
       "/* On hover */\n",
       "div.sk-estimator:hover .sk-estimator-doc-link:hover,\n",
       ".sk-estimator-doc-link:hover,\n",
       "div.sk-label-container:hover .sk-estimator-doc-link:hover,\n",
       ".sk-estimator-doc-link:hover {\n",
       "  /* unfitted */\n",
       "  background-color: var(--sklearn-color-unfitted-level-3);\n",
       "  color: var(--sklearn-color-background);\n",
       "  text-decoration: none;\n",
       "}\n",
       "\n",
       "div.sk-estimator.fitted:hover .sk-estimator-doc-link.fitted:hover,\n",
       ".sk-estimator-doc-link.fitted:hover,\n",
       "div.sk-label-container:hover .sk-estimator-doc-link.fitted:hover,\n",
       ".sk-estimator-doc-link.fitted:hover {\n",
       "  /* fitted */\n",
       "  background-color: var(--sklearn-color-fitted-level-3);\n",
       "  color: var(--sklearn-color-background);\n",
       "  text-decoration: none;\n",
       "}\n",
       "\n",
       "/* Span, style for the box shown on hovering the info icon */\n",
       ".sk-estimator-doc-link span {\n",
       "  display: none;\n",
       "  z-index: 9999;\n",
       "  position: relative;\n",
       "  font-weight: normal;\n",
       "  right: .2ex;\n",
       "  padding: .5ex;\n",
       "  margin: .5ex;\n",
       "  width: min-content;\n",
       "  min-width: 20ex;\n",
       "  max-width: 50ex;\n",
       "  color: var(--sklearn-color-text);\n",
       "  box-shadow: 2pt 2pt 4pt #999;\n",
       "  /* unfitted */\n",
       "  background: var(--sklearn-color-unfitted-level-0);\n",
       "  border: .5pt solid var(--sklearn-color-unfitted-level-3);\n",
       "}\n",
       "\n",
       ".sk-estimator-doc-link.fitted span {\n",
       "  /* fitted */\n",
       "  background: var(--sklearn-color-fitted-level-0);\n",
       "  border: var(--sklearn-color-fitted-level-3);\n",
       "}\n",
       "\n",
       ".sk-estimator-doc-link:hover span {\n",
       "  display: block;\n",
       "}\n",
       "\n",
       "/* \"?\"-specific style due to the `<a>` HTML tag */\n",
       "\n",
       "#sk-container-id-2 a.estimator_doc_link {\n",
       "  float: right;\n",
       "  font-size: 1rem;\n",
       "  line-height: 1em;\n",
       "  font-family: monospace;\n",
       "  background-color: var(--sklearn-color-background);\n",
       "  border-radius: 1rem;\n",
       "  height: 1rem;\n",
       "  width: 1rem;\n",
       "  text-decoration: none;\n",
       "  /* unfitted */\n",
       "  color: var(--sklearn-color-unfitted-level-1);\n",
       "  border: var(--sklearn-color-unfitted-level-1) 1pt solid;\n",
       "}\n",
       "\n",
       "#sk-container-id-2 a.estimator_doc_link.fitted {\n",
       "  /* fitted */\n",
       "  border: var(--sklearn-color-fitted-level-1) 1pt solid;\n",
       "  color: var(--sklearn-color-fitted-level-1);\n",
       "}\n",
       "\n",
       "/* On hover */\n",
       "#sk-container-id-2 a.estimator_doc_link:hover {\n",
       "  /* unfitted */\n",
       "  background-color: var(--sklearn-color-unfitted-level-3);\n",
       "  color: var(--sklearn-color-background);\n",
       "  text-decoration: none;\n",
       "}\n",
       "\n",
       "#sk-container-id-2 a.estimator_doc_link.fitted:hover {\n",
       "  /* fitted */\n",
       "  background-color: var(--sklearn-color-fitted-level-3);\n",
       "}\n",
       "</style><div id=\"sk-container-id-2\" class=\"sk-top-container\"><div class=\"sk-text-repr-fallback\"><pre>LogisticRegression()</pre><b>In a Jupyter environment, please rerun this cell to show the HTML representation or trust the notebook. <br />On GitHub, the HTML representation is unable to render, please try loading this page with nbviewer.org.</b></div><div class=\"sk-container\" hidden><div class=\"sk-item\"><div class=\"sk-estimator fitted sk-toggleable\"><input class=\"sk-toggleable__control sk-hidden--visually\" id=\"sk-estimator-id-2\" type=\"checkbox\" checked><label for=\"sk-estimator-id-2\" class=\"sk-toggleable__label fitted sk-toggleable__label-arrow fitted\">&nbsp;&nbsp;LogisticRegression<a class=\"sk-estimator-doc-link fitted\" rel=\"noreferrer\" target=\"_blank\" href=\"https://scikit-learn.org/1.5/modules/generated/sklearn.linear_model.LogisticRegression.html\">?<span>Documentation for LogisticRegression</span></a><span class=\"sk-estimator-doc-link fitted\">i<span>Fitted</span></span></label><div class=\"sk-toggleable__content fitted\"><pre>LogisticRegression()</pre></div> </div></div></div></div>"
      ],
      "text/plain": [
       "LogisticRegression()"
      ]
     },
     "execution_count": 50,
     "metadata": {},
     "output_type": "execute_result"
    }
   ],
   "source": [
    "logmodel.fit(X_train,y_train)"
   ]
  },
  {
   "cell_type": "code",
   "execution_count": 51,
   "id": "11c16cde-321e-4889-8388-e9a06b53abf0",
   "metadata": {},
   "outputs": [
    {
     "data": {
      "text/html": [
       "<div>\n",
       "<style scoped>\n",
       "    .dataframe tbody tr th:only-of-type {\n",
       "        vertical-align: middle;\n",
       "    }\n",
       "\n",
       "    .dataframe tbody tr th {\n",
       "        vertical-align: top;\n",
       "    }\n",
       "\n",
       "    .dataframe thead th {\n",
       "        text-align: right;\n",
       "    }\n",
       "</style>\n",
       "<table border=\"1\" class=\"dataframe\">\n",
       "  <thead>\n",
       "    <tr style=\"text-align: right;\">\n",
       "      <th></th>\n",
       "      <th>Age</th>\n",
       "      <th>Gender</th>\n",
       "      <th>Tenure</th>\n",
       "      <th>MonthlyCharges</th>\n",
       "      <th>ContractType</th>\n",
       "    </tr>\n",
       "  </thead>\n",
       "  <tbody>\n",
       "    <tr>\n",
       "      <th>0</th>\n",
       "      <td>49</td>\n",
       "      <td>1</td>\n",
       "      <td>4</td>\n",
       "      <td>88.35</td>\n",
       "      <td>1</td>\n",
       "    </tr>\n",
       "    <tr>\n",
       "      <th>1</th>\n",
       "      <td>43</td>\n",
       "      <td>1</td>\n",
       "      <td>0</td>\n",
       "      <td>36.67</td>\n",
       "      <td>1</td>\n",
       "    </tr>\n",
       "    <tr>\n",
       "      <th>2</th>\n",
       "      <td>51</td>\n",
       "      <td>2</td>\n",
       "      <td>2</td>\n",
       "      <td>63.79</td>\n",
       "      <td>1</td>\n",
       "    </tr>\n",
       "    <tr>\n",
       "      <th>3</th>\n",
       "      <td>60</td>\n",
       "      <td>2</td>\n",
       "      <td>8</td>\n",
       "      <td>102.34</td>\n",
       "      <td>2</td>\n",
       "    </tr>\n",
       "    <tr>\n",
       "      <th>4</th>\n",
       "      <td>42</td>\n",
       "      <td>1</td>\n",
       "      <td>32</td>\n",
       "      <td>69.01</td>\n",
       "      <td>1</td>\n",
       "    </tr>\n",
       "    <tr>\n",
       "      <th>...</th>\n",
       "      <td>...</td>\n",
       "      <td>...</td>\n",
       "      <td>...</td>\n",
       "      <td>...</td>\n",
       "      <td>...</td>\n",
       "    </tr>\n",
       "    <tr>\n",
       "      <th>995</th>\n",
       "      <td>42</td>\n",
       "      <td>1</td>\n",
       "      <td>41</td>\n",
       "      <td>37.14</td>\n",
       "      <td>1</td>\n",
       "    </tr>\n",
       "    <tr>\n",
       "      <th>996</th>\n",
       "      <td>62</td>\n",
       "      <td>1</td>\n",
       "      <td>9</td>\n",
       "      <td>80.93</td>\n",
       "      <td>1</td>\n",
       "    </tr>\n",
       "    <tr>\n",
       "      <th>997</th>\n",
       "      <td>51</td>\n",
       "      <td>2</td>\n",
       "      <td>15</td>\n",
       "      <td>111.72</td>\n",
       "      <td>1</td>\n",
       "    </tr>\n",
       "    <tr>\n",
       "      <th>998</th>\n",
       "      <td>39</td>\n",
       "      <td>1</td>\n",
       "      <td>68</td>\n",
       "      <td>65.67</td>\n",
       "      <td>2</td>\n",
       "    </tr>\n",
       "    <tr>\n",
       "      <th>999</th>\n",
       "      <td>50</td>\n",
       "      <td>1</td>\n",
       "      <td>1</td>\n",
       "      <td>56.67</td>\n",
       "      <td>1</td>\n",
       "    </tr>\n",
       "  </tbody>\n",
       "</table>\n",
       "<p>1000 rows × 5 columns</p>\n",
       "</div>"
      ],
      "text/plain": [
       "     Age  Gender  Tenure  MonthlyCharges  ContractType\n",
       "0     49       1       4           88.35             1\n",
       "1     43       1       0           36.67             1\n",
       "2     51       2       2           63.79             1\n",
       "3     60       2       8          102.34             2\n",
       "4     42       1      32           69.01             1\n",
       "..   ...     ...     ...             ...           ...\n",
       "995   42       1      41           37.14             1\n",
       "996   62       1       9           80.93             1\n",
       "997   51       2      15          111.72             1\n",
       "998   39       1      68           65.67             2\n",
       "999   50       1       1           56.67             1\n",
       "\n",
       "[1000 rows x 5 columns]"
      ]
     },
     "execution_count": 51,
     "metadata": {},
     "output_type": "execute_result"
    }
   ],
   "source": [
    "X"
   ]
  },
  {
   "cell_type": "code",
   "execution_count": 52,
   "id": "b62cf8d0-4862-4b9c-8f31-82df9df44256",
   "metadata": {},
   "outputs": [
    {
     "data": {
      "text/plain": [
       "array([1], dtype=int64)"
      ]
     },
     "execution_count": 52,
     "metadata": {},
     "output_type": "execute_result"
    }
   ],
   "source": [
    " logmodel.predict([[49,1,4,88.35,1]])"
   ]
  },
  {
   "cell_type": "code",
   "execution_count": 53,
   "id": "080f7211-a3fe-4e3f-8bbf-7c96861bf512",
   "metadata": {},
   "outputs": [
    {
     "data": {
      "text/plain": [
       "array([1, 1, 1, 1, 1, 1, 1, 0, 1, 1, 1, 1, 1, 1, 1, 1, 1, 1, 1, 1, 1, 1,\n",
       "       1, 1, 1, 1, 1, 1, 1, 1, 1, 1, 1, 1, 1, 1, 0, 1, 1, 1, 1, 1, 1, 1,\n",
       "       1, 1, 1, 1, 1, 1, 1, 1, 1, 1, 1, 1, 1, 1, 1, 1, 1, 1, 1, 1, 1, 1,\n",
       "       1, 1, 1, 1, 1, 1, 1, 0, 1, 1, 1, 1, 1, 1, 1, 1, 1, 1, 1, 1, 1, 1,\n",
       "       1, 1, 1, 1, 1, 1, 1, 1, 1, 1, 1, 1, 1, 1, 1, 1, 1, 1, 1, 1, 1, 1,\n",
       "       1, 1, 1, 1, 1, 1, 1, 1, 1, 1, 1, 1, 1, 1, 1, 1, 1, 1, 1, 0, 1, 1,\n",
       "       1, 1, 1, 1, 1, 1, 1, 1, 1, 1, 1, 1, 1, 1, 1, 1, 1, 1, 1, 1, 1, 1,\n",
       "       1, 1, 1, 1, 1, 1, 1, 1, 1, 1, 1, 1, 1, 1, 1, 1, 1, 1, 1, 1, 0, 1,\n",
       "       1, 1, 1, 1, 1, 1, 1, 1, 1, 1, 1, 1, 1, 1, 1, 1, 1, 1, 0, 1, 1, 1,\n",
       "       1, 1], dtype=int64)"
      ]
     },
     "execution_count": 53,
     "metadata": {},
     "output_type": "execute_result"
    }
   ],
   "source": [
    "y_pred = logmodel.predict(X_test)\n",
    "y_pred"
   ]
  },
  {
   "cell_type": "code",
   "execution_count": 54,
   "id": "8495f932-c352-4224-90d4-ee889c156286",
   "metadata": {},
   "outputs": [],
   "source": [
    "from sklearn.metrics import accuracy_score"
   ]
  },
  {
   "cell_type": "code",
   "execution_count": 55,
   "id": "7a19fa9d-331d-4399-ac51-0ca9207f3477",
   "metadata": {},
   "outputs": [
    {
     "name": "stdout",
     "output_type": "stream",
     "text": [
      "the accurate score for the model: 88.5\n"
     ]
    }
   ],
   "source": [
    "accuracy = accuracy_score(y_pred,y_test)\n",
    "print('the accurate score for the model:', accuracy * 100)"
   ]
  },
  {
   "cell_type": "code",
   "execution_count": 56,
   "id": "7db0bf98-392a-4c0f-a8ca-60105bad1d6b",
   "metadata": {},
   "outputs": [
    {
     "data": {
      "text/html": [
       "<div>\n",
       "<style scoped>\n",
       "    .dataframe tbody tr th:only-of-type {\n",
       "        vertical-align: middle;\n",
       "    }\n",
       "\n",
       "    .dataframe tbody tr th {\n",
       "        vertical-align: top;\n",
       "    }\n",
       "\n",
       "    .dataframe thead th {\n",
       "        text-align: right;\n",
       "    }\n",
       "</style>\n",
       "<table border=\"1\" class=\"dataframe\">\n",
       "  <thead>\n",
       "    <tr style=\"text-align: right;\">\n",
       "      <th></th>\n",
       "      <th>Age</th>\n",
       "      <th>Gender</th>\n",
       "      <th>Tenure</th>\n",
       "      <th>MonthlyCharges</th>\n",
       "      <th>ContractType</th>\n",
       "    </tr>\n",
       "  </thead>\n",
       "  <tbody>\n",
       "    <tr>\n",
       "      <th>0</th>\n",
       "      <td>49</td>\n",
       "      <td>1</td>\n",
       "      <td>4</td>\n",
       "      <td>88.35</td>\n",
       "      <td>1</td>\n",
       "    </tr>\n",
       "    <tr>\n",
       "      <th>1</th>\n",
       "      <td>43</td>\n",
       "      <td>1</td>\n",
       "      <td>0</td>\n",
       "      <td>36.67</td>\n",
       "      <td>1</td>\n",
       "    </tr>\n",
       "    <tr>\n",
       "      <th>2</th>\n",
       "      <td>51</td>\n",
       "      <td>2</td>\n",
       "      <td>2</td>\n",
       "      <td>63.79</td>\n",
       "      <td>1</td>\n",
       "    </tr>\n",
       "    <tr>\n",
       "      <th>3</th>\n",
       "      <td>60</td>\n",
       "      <td>2</td>\n",
       "      <td>8</td>\n",
       "      <td>102.34</td>\n",
       "      <td>2</td>\n",
       "    </tr>\n",
       "    <tr>\n",
       "      <th>4</th>\n",
       "      <td>42</td>\n",
       "      <td>1</td>\n",
       "      <td>32</td>\n",
       "      <td>69.01</td>\n",
       "      <td>1</td>\n",
       "    </tr>\n",
       "  </tbody>\n",
       "</table>\n",
       "</div>"
      ],
      "text/plain": [
       "   Age  Gender  Tenure  MonthlyCharges  ContractType\n",
       "0   49       1       4           88.35             1\n",
       "1   43       1       0           36.67             1\n",
       "2   51       2       2           63.79             1\n",
       "3   60       2       8          102.34             2\n",
       "4   42       1      32           69.01             1"
      ]
     },
     "execution_count": 56,
     "metadata": {},
     "output_type": "execute_result"
    }
   ],
   "source": [
    "X.head()"
   ]
  },
  {
   "cell_type": "code",
   "execution_count": 57,
   "id": "17f54f15-4590-4fba-8e32-7c494fdb5959",
   "metadata": {},
   "outputs": [
    {
     "data": {
      "text/plain": [
       "0    1\n",
       "1    1\n",
       "2    1\n",
       "3    1\n",
       "4    1\n",
       "Name: Churn, dtype: int64"
      ]
     },
     "execution_count": 57,
     "metadata": {},
     "output_type": "execute_result"
    }
   ],
   "source": [
    "y.head()"
   ]
  },
  {
   "cell_type": "code",
   "execution_count": 58,
   "id": "89733127-6e0f-4eb3-b7a7-47770f01b3d3",
   "metadata": {},
   "outputs": [
    {
     "name": "stdout",
     "output_type": "stream",
     "text": [
      "[1]\n",
      "the customer has left the party\n"
     ]
    }
   ],
   "source": [
    "#creating a predictive system\n",
    "\n",
    "input_data = (60,2,8,102.34,2)\n",
    "\n",
    "input_data_array = np.array(input_data)\n",
    "\n",
    "input_data_reshaped = input_data_array.reshape(1,-1)\n",
    "\n",
    "std_scaler = scaler.fit_transform(input_data_reshaped)\n",
    "\n",
    "prediction = logmodel.predict(std_scaler)\n",
    "print(prediction)\n",
    "\n",
    "if (prediction[0] == 0):\n",
    "    print('the customer has not left the party')\n",
    "else:\n",
    "    print('the customer has left the party')\n"
   ]
  },
  {
   "cell_type": "code",
   "execution_count": 59,
   "id": "f99ca7ca-8f69-4583-a0dd-53c9c8d94b0e",
   "metadata": {},
   "outputs": [],
   "source": [
    "#save the model\n",
    "import pickle\n"
   ]
  },
  {
   "cell_type": "code",
   "execution_count": 60,
   "id": "4683b0a3-0cf1-4764-bd24-dcddb96d7efd",
   "metadata": {},
   "outputs": [],
   "source": [
    "#save the model\n",
    "\n",
    "pickle.dump(logmodel,open('logmodel.pkl','wb'))"
   ]
  },
  {
   "cell_type": "code",
   "execution_count": 61,
   "id": "cd1b6f46-ece6-4f6b-96ac-26f35e75d239",
   "metadata": {},
   "outputs": [
    {
     "name": "stdout",
     "output_type": "stream",
     "text": [
      "[1]\n"
     ]
    }
   ],
   "source": [
    "# load the modelfor sanity checking \n",
    "\n",
    "logmodel = pickle.load(open('logmodel.pkl','rb'))\n",
    "print(logmodel.predict([[50,1,1,56.67,1]]))"
   ]
  },
  {
   "cell_type": "code",
   "execution_count": null,
   "id": "6745d69a-964f-40b5-8269-96d878acbc15",
   "metadata": {},
   "outputs": [],
   "source": []
  },
  {
   "cell_type": "code",
   "execution_count": null,
   "id": "4dfab8ee-1148-4849-9482-00e5a3574b7c",
   "metadata": {},
   "outputs": [],
   "source": []
  },
  {
   "cell_type": "code",
   "execution_count": 106,
   "id": "ea2b9c13-566d-40db-ba82-a33fe87d3eb0",
   "metadata": {},
   "outputs": [],
   "source": []
  },
  {
   "cell_type": "code",
   "execution_count": null,
   "id": "117645c9-d598-434b-b8c3-41bc23832622",
   "metadata": {},
   "outputs": [],
   "source": []
  },
  {
   "cell_type": "code",
   "execution_count": null,
   "id": "1b6acf7e-06e7-4716-8885-b47773e02ab5",
   "metadata": {},
   "outputs": [],
   "source": []
  },
  {
   "cell_type": "code",
   "execution_count": null,
   "id": "d831e470-781b-4f16-b4c3-36f0bbfd7717",
   "metadata": {},
   "outputs": [],
   "source": []
  },
  {
   "cell_type": "code",
   "execution_count": null,
   "id": "622c2989-6ba0-4812-a730-49e71649f115",
   "metadata": {},
   "outputs": [],
   "source": [
    "\n",
    "\n",
    "\n",
    "\n",
    "\n"
   ]
  },
  {
   "cell_type": "code",
   "execution_count": null,
   "id": "5c7dbac8-637f-4a7f-9994-abfc90dee2b1",
   "metadata": {},
   "outputs": [],
   "source": []
  },
  {
   "cell_type": "code",
   "execution_count": null,
   "id": "4fea8f21-31fb-4a74-b9bb-0d0cfa53e59e",
   "metadata": {},
   "outputs": [],
   "source": []
  },
  {
   "cell_type": "code",
   "execution_count": null,
   "id": "a0691b2e-b691-470a-b342-87358c78885a",
   "metadata": {},
   "outputs": [],
   "source": []
  }
 ],
 "metadata": {
  "kernelspec": {
   "display_name": "Python 3 (ipykernel)",
   "language": "python",
   "name": "python3"
  },
  "language_info": {
   "codemirror_mode": {
    "name": "ipython",
    "version": 3
   },
   "file_extension": ".py",
   "mimetype": "text/x-python",
   "name": "python",
   "nbconvert_exporter": "python",
   "pygments_lexer": "ipython3",
   "version": "3.12.7"
  }
 },
 "nbformat": 4,
 "nbformat_minor": 5
}
